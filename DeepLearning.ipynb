{
  "nbformat": 4,
  "nbformat_minor": 0,
  "metadata": {
    "colab": {
      "provenance": []
    },
    "kernelspec": {
      "name": "python3",
      "display_name": "Python 3"
    },
    "language_info": {
      "name": "python"
    }
  },
  "cells": [
    {
      "cell_type": "markdown",
      "source": [
        "# Clasificación de futbolistas mediante deep learning\n",
        "\n",
        "En la continuidad de mi trabajo sobre la caracterización de los jugadores de fútbol, he utilizado métodos de aprendizaje profundo. Para separar a mis jugadores en diferentes clases, he utilizado mi clasificazion hecha con el trabajo de clustering (1 cluster = 1 clase). Entonces, mis datos (ver archivo \"k_means_clusters.csv\") se componen de 52 features (goals, bigChancesCreated, asssists ...) y de 9 clases (cada una representando un tipo de jugador)."
      ],
      "metadata": {
        "id": "dHAGURSoN1nq"
      }
    },
    {
      "cell_type": "code",
      "source": [
        "import pandas as pd\n",
        "import sklearn\n",
        "from sklearn.preprocessing import label_binarize\n",
        "from tensorflow import keras\n",
        "from keras import models\n",
        "from scipy import interp\n",
        "from keras import layers\n",
        "from sklearn import model_selection\n",
        "from sklearn.metrics import confusion_matrix, classification_report, roc_curve, auc\n",
        "import numpy as np\n",
        "from matplotlib import pyplot as plt\n",
        "\n",
        "data = pd.read_csv('k_means_clusters.csv', index_col='name')\n",
        "\n",
        "# Selecciono todos los datos en X\n",
        "X = data.iloc[:, :-1]\n",
        "print(X.head())\n",
        "\n",
        "# Selecciono todos los targets en y\n",
        "y = data.iloc[:, -1]\n",
        "print(y.head())"
      ],
      "metadata": {
        "colab": {
          "base_uri": "https://localhost:8080/"
        },
        "id": "MDYWlHJeOUCb",
        "outputId": "8f6ffe1f-2deb-4510-f3a5-0396951ff126"
      },
      "execution_count": 12,
      "outputs": [
        {
          "output_type": "stream",
          "name": "stdout",
          "text": [
            "                 goals  bigChancesCreated  bigChancesMissed   assists  \\\n",
            "name                                                                    \n",
            "Yaya Touré   -0.423817          -0.052154         -0.283263  1.055707   \n",
            "Arturo Vidal  0.088257          -0.143615         -0.126104 -0.093351   \n",
            "Axel Witsel  -0.129084          -1.015703         -0.343300 -0.439132   \n",
            "Rafinha      -0.829356          -0.108621         -0.722721 -0.165008   \n",
            "Philipp Lahm -0.829356          -1.015703         -0.182957 -0.613521   \n",
            "\n",
            "              goalsAssistsSum  accuratePasses  inaccuratePasses  totalPasses  \\\n",
            "name                                                                           \n",
            "Yaya Touré           0.140034        1.265302         -0.462732     1.185215   \n",
            "Arturo Vidal         0.025418        1.596239          0.212326     1.584193   \n",
            "Axel Witsel         -0.285561        1.143602         -0.985962     1.007755   \n",
            "Rafinha             -0.688548        1.414349          0.168641     1.401497   \n",
            "Philipp Lahm        -0.882070        1.527579         -0.513779     1.435907   \n",
            "\n",
            "              accuratePassesPercentage  accurateOwnHalfPasses  ...  \\\n",
            "name                                                           ...   \n",
            "Yaya Touré                    1.244553               0.589774  ...   \n",
            "Arturo Vidal                  0.867897               0.908026  ...   \n",
            "Axel Witsel                   1.124278               0.391294  ...   \n",
            "Rafinha                       0.943470               1.021720  ...   \n",
            "Philipp Lahm                  1.288081               0.425115  ...   \n",
            "\n",
            "              blockedShots  totalAttemptAssist  totalContest  totalCross  \\\n",
            "name                                                                       \n",
            "Yaya Touré       -1.016156           -0.249493      0.845842   -0.849703   \n",
            "Arturo Vidal     -0.086222            0.025435     -0.929417   -0.706411   \n",
            "Axel Witsel      -0.002335           -0.962705     -0.348814   -0.825053   \n",
            "Rafinha          -1.016156           -0.016892     -0.577418    0.115359   \n",
            "Philipp Lahm     -0.655591            1.460304     -0.616984    0.528936   \n",
            "\n",
            "              duelLost  aerialLost  totalLongBalls  yellowRedCards  \\\n",
            "name                                                                 \n",
            "Yaya Touré   -0.025055    0.050718        0.233455       -0.283147   \n",
            "Arturo Vidal  1.138829    1.104707        0.423579        1.978629   \n",
            "Axel Witsel  -0.877891   -0.884539       -0.565084       -0.283147   \n",
            "Rafinha      -0.904796   -0.884898        0.482341       -0.283147   \n",
            "Philipp Lahm -1.119468   -0.457980       -0.355677       -0.283147   \n",
            "\n",
            "              totalOwnHalfPasses  totalOppositionHalfPasses  \n",
            "name                                                         \n",
            "Yaya Touré              0.502775                   1.141602  \n",
            "Arturo Vidal            0.884556                   1.374196  \n",
            "Axel Witsel             0.365224                   1.019353  \n",
            "Rafinha                 1.071772                   1.037714  \n",
            "Philipp Lahm            0.386076                   1.908435  \n",
            "\n",
            "[5 rows x 52 columns]\n",
            "name\n",
            "Yaya Touré      0\n",
            "Arturo Vidal    0\n",
            "Axel Witsel     0\n",
            "Rafinha         0\n",
            "Philipp Lahm    0\n",
            "Name: cluster, dtype: int64\n"
          ]
        }
      ]
    },
    {
      "cell_type": "markdown",
      "source": [
        "Separo mis datos en un conjunto de entrenamiento y un conjunto de prueba. "
      ],
      "metadata": {
        "id": "VpY5dYC3-_iW"
      }
    },
    {
      "cell_type": "code",
      "source": [
        "X_train, X_test, y_train, y_test = model_selection.train_test_split(X, y, test_size=0.33)\n",
        "\n",
        "y_train = keras.utils.to_categorical(y_train, 9)\n",
        "y_test = keras.utils.to_categorical(y_test, 9)"
      ],
      "metadata": {
        "id": "YCTkifr_PeXm"
      },
      "execution_count": 13,
      "outputs": []
    },
    {
      "cell_type": "markdown",
      "source": [
        "# Creación del modelo\n",
        "\n",
        "Creo mi red neuronal, elijo una dimensión de 52 como entrada porque tengo 52 columnas en mi tabla de datos, y una dimensión de 9 como salida porque tengo 9 clases. A continuación, elijo la función de acitivación 'sigmoid' porque es eficiente para problemas de clasificación, una función de pérdida 'categorical_crossentropy' para problemas multiclase y una métrica 'accuracy'."
      ],
      "metadata": {
        "id": "UWd7bM4X_KVG"
      }
    },
    {
      "cell_type": "code",
      "source": [
        "model = models.Sequential()\n",
        "model.add(keras.Input(shape=(52)))\n",
        "model.add(layers.Dense(52, activation='sigmoid'))\n",
        "model.add(layers.Dense(9, activation='sigmoid'))\n",
        "model.compile(metrics=['accuracy'], loss='categorical_crossentropy', optimizer='adam')"
      ],
      "metadata": {
        "id": "wOh-1SJVQNl_"
      },
      "execution_count": 14,
      "outputs": []
    },
    {
      "cell_type": "markdown",
      "source": [
        "# Entrenamiento y matriz de confusion\n",
        "\n",
        "Luego entreno mi modelo y lo pruebo. A continuación, trazo la matriz de confusión y el coeficiente de clasificación. Vemos que obtenemos excelentes resultados, con una precisión superior al 90%."
      ],
      "metadata": {
        "id": "kUwXvBKOBhgC"
      }
    },
    {
      "cell_type": "code",
      "source": [
        "model.fit(X_train, y_train, epochs=60, batch_size=4, verbose=1, validation_split=0.1)\n",
        "\n",
        "y_pred = model.predict(X_test)\n",
        "y_pred_1D = np.argmax(y_pred, axis=1)\n",
        "y_test_1D = np.argmax(y_test, axis=1)\n",
        "result = model.evaluate(X_test, y_test, verbose=1)\n",
        "accuracy = result[1]\n",
        "print(f\"La precisión del modelo para el conjunto de prueba es del {round(accuracy * 100, 2)} %\")\n",
        "result = model.evaluate(X_train, y_train, verbose=1)\n",
        "accuracy = result[1]\n",
        "print(f\"La precisión del modelo para el conjunto de entrenamieto es del {round(accuracy * 100, 2)} %\")\n",
        "\n",
        "\n",
        "\n",
        "\n",
        "print('\\nConfusion matrix\\n')\n",
        "print(confusion_matrix(y_test_1D, y_pred_1D))\n",
        "print('\\nClassification report\\n')\n",
        "print(classification_report(y_test_1D, y_pred_1D, target_names=['class 0', 'class 1',\n",
        "                                                   'class 2', 'class 3',\n",
        "                                                   'class 4', 'class 5',\n",
        "                                                   'class 6', 'class 7',\n",
        "                                                   'class 8']))"
      ],
      "metadata": {
        "colab": {
          "base_uri": "https://localhost:8080/"
        },
        "id": "OWiDeWUHYfES",
        "outputId": "f5ac84d5-6459-4eb8-d1a6-303311770213"
      },
      "execution_count": 16,
      "outputs": [
        {
          "output_type": "stream",
          "name": "stdout",
          "text": [
            "Epoch 1/60\n",
            "40/40 [==============================] - 0s 4ms/step - loss: 0.0612 - accuracy: 0.9937 - val_loss: 0.3979 - val_accuracy: 0.8889\n",
            "Epoch 2/60\n",
            "40/40 [==============================] - 0s 2ms/step - loss: 0.0590 - accuracy: 0.9937 - val_loss: 0.3973 - val_accuracy: 0.8889\n",
            "Epoch 3/60\n",
            "40/40 [==============================] - 0s 2ms/step - loss: 0.0569 - accuracy: 0.9937 - val_loss: 0.4034 - val_accuracy: 0.8889\n",
            "Epoch 4/60\n",
            "40/40 [==============================] - 0s 2ms/step - loss: 0.0552 - accuracy: 0.9937 - val_loss: 0.4102 - val_accuracy: 0.8889\n",
            "Epoch 5/60\n",
            "40/40 [==============================] - 0s 2ms/step - loss: 0.0533 - accuracy: 0.9937 - val_loss: 0.3902 - val_accuracy: 0.8889\n",
            "Epoch 6/60\n",
            "40/40 [==============================] - 0s 3ms/step - loss: 0.0514 - accuracy: 0.9937 - val_loss: 0.3855 - val_accuracy: 0.8889\n",
            "Epoch 7/60\n",
            "40/40 [==============================] - 0s 2ms/step - loss: 0.0498 - accuracy: 0.9937 - val_loss: 0.3885 - val_accuracy: 0.8889\n",
            "Epoch 8/60\n",
            "40/40 [==============================] - 0s 3ms/step - loss: 0.0481 - accuracy: 0.9937 - val_loss: 0.3870 - val_accuracy: 0.8889\n",
            "Epoch 9/60\n",
            "40/40 [==============================] - 0s 3ms/step - loss: 0.0465 - accuracy: 0.9937 - val_loss: 0.3859 - val_accuracy: 0.8889\n",
            "Epoch 10/60\n",
            "40/40 [==============================] - 0s 2ms/step - loss: 0.0451 - accuracy: 0.9937 - val_loss: 0.3924 - val_accuracy: 0.8889\n",
            "Epoch 11/60\n",
            "40/40 [==============================] - 0s 3ms/step - loss: 0.0434 - accuracy: 0.9937 - val_loss: 0.3805 - val_accuracy: 0.8889\n",
            "Epoch 12/60\n",
            "40/40 [==============================] - 0s 3ms/step - loss: 0.0421 - accuracy: 0.9937 - val_loss: 0.3799 - val_accuracy: 0.8889\n",
            "Epoch 13/60\n",
            "40/40 [==============================] - 0s 3ms/step - loss: 0.0408 - accuracy: 0.9937 - val_loss: 0.3852 - val_accuracy: 0.8889\n",
            "Epoch 14/60\n",
            "40/40 [==============================] - 0s 3ms/step - loss: 0.0397 - accuracy: 1.0000 - val_loss: 0.3762 - val_accuracy: 0.8889\n",
            "Epoch 15/60\n",
            "40/40 [==============================] - 0s 3ms/step - loss: 0.0382 - accuracy: 1.0000 - val_loss: 0.3809 - val_accuracy: 0.8889\n",
            "Epoch 16/60\n",
            "40/40 [==============================] - 0s 3ms/step - loss: 0.0371 - accuracy: 1.0000 - val_loss: 0.3835 - val_accuracy: 0.8889\n",
            "Epoch 17/60\n",
            "40/40 [==============================] - 0s 3ms/step - loss: 0.0360 - accuracy: 1.0000 - val_loss: 0.3759 - val_accuracy: 0.8889\n",
            "Epoch 18/60\n",
            "40/40 [==============================] - 0s 3ms/step - loss: 0.0347 - accuracy: 1.0000 - val_loss: 0.3851 - val_accuracy: 0.8889\n",
            "Epoch 19/60\n",
            "40/40 [==============================] - 0s 2ms/step - loss: 0.0338 - accuracy: 1.0000 - val_loss: 0.3849 - val_accuracy: 0.8889\n",
            "Epoch 20/60\n",
            "40/40 [==============================] - 0s 2ms/step - loss: 0.0328 - accuracy: 1.0000 - val_loss: 0.3821 - val_accuracy: 0.8889\n",
            "Epoch 21/60\n",
            "40/40 [==============================] - 0s 2ms/step - loss: 0.0318 - accuracy: 1.0000 - val_loss: 0.3705 - val_accuracy: 0.8889\n",
            "Epoch 22/60\n",
            "40/40 [==============================] - 0s 2ms/step - loss: 0.0308 - accuracy: 1.0000 - val_loss: 0.3760 - val_accuracy: 0.8889\n",
            "Epoch 23/60\n",
            "40/40 [==============================] - 0s 2ms/step - loss: 0.0300 - accuracy: 1.0000 - val_loss: 0.3762 - val_accuracy: 0.8889\n",
            "Epoch 24/60\n",
            "40/40 [==============================] - 0s 2ms/step - loss: 0.0288 - accuracy: 1.0000 - val_loss: 0.3741 - val_accuracy: 0.8889\n",
            "Epoch 25/60\n",
            "40/40 [==============================] - 0s 2ms/step - loss: 0.0280 - accuracy: 1.0000 - val_loss: 0.3739 - val_accuracy: 0.8889\n",
            "Epoch 26/60\n",
            "40/40 [==============================] - 0s 2ms/step - loss: 0.0272 - accuracy: 1.0000 - val_loss: 0.3752 - val_accuracy: 0.8889\n",
            "Epoch 27/60\n",
            "40/40 [==============================] - 0s 3ms/step - loss: 0.0265 - accuracy: 1.0000 - val_loss: 0.3705 - val_accuracy: 0.8889\n",
            "Epoch 28/60\n",
            "40/40 [==============================] - 0s 3ms/step - loss: 0.0255 - accuracy: 1.0000 - val_loss: 0.3686 - val_accuracy: 0.8889\n",
            "Epoch 29/60\n",
            "40/40 [==============================] - 0s 3ms/step - loss: 0.0249 - accuracy: 1.0000 - val_loss: 0.3704 - val_accuracy: 0.8889\n",
            "Epoch 30/60\n",
            "40/40 [==============================] - 0s 3ms/step - loss: 0.0242 - accuracy: 1.0000 - val_loss: 0.3644 - val_accuracy: 0.8889\n",
            "Epoch 31/60\n",
            "40/40 [==============================] - 0s 2ms/step - loss: 0.0235 - accuracy: 1.0000 - val_loss: 0.3788 - val_accuracy: 0.8889\n",
            "Epoch 32/60\n",
            "40/40 [==============================] - 0s 2ms/step - loss: 0.0228 - accuracy: 1.0000 - val_loss: 0.3683 - val_accuracy: 0.8889\n",
            "Epoch 33/60\n",
            "40/40 [==============================] - 0s 3ms/step - loss: 0.0223 - accuracy: 1.0000 - val_loss: 0.3817 - val_accuracy: 0.8889\n",
            "Epoch 34/60\n",
            "40/40 [==============================] - 0s 3ms/step - loss: 0.0214 - accuracy: 1.0000 - val_loss: 0.3616 - val_accuracy: 0.8889\n",
            "Epoch 35/60\n",
            "40/40 [==============================] - 0s 3ms/step - loss: 0.0208 - accuracy: 1.0000 - val_loss: 0.3687 - val_accuracy: 0.8889\n",
            "Epoch 36/60\n",
            "40/40 [==============================] - 0s 3ms/step - loss: 0.0203 - accuracy: 1.0000 - val_loss: 0.3705 - val_accuracy: 0.8889\n",
            "Epoch 37/60\n",
            "40/40 [==============================] - 0s 3ms/step - loss: 0.0197 - accuracy: 1.0000 - val_loss: 0.3700 - val_accuracy: 0.8889\n",
            "Epoch 38/60\n",
            "40/40 [==============================] - 0s 3ms/step - loss: 0.0192 - accuracy: 1.0000 - val_loss: 0.3692 - val_accuracy: 0.8889\n",
            "Epoch 39/60\n",
            "40/40 [==============================] - 0s 3ms/step - loss: 0.0189 - accuracy: 1.0000 - val_loss: 0.3797 - val_accuracy: 0.8889\n",
            "Epoch 40/60\n",
            "40/40 [==============================] - 0s 2ms/step - loss: 0.0181 - accuracy: 1.0000 - val_loss: 0.3685 - val_accuracy: 0.8889\n",
            "Epoch 41/60\n",
            "40/40 [==============================] - 0s 3ms/step - loss: 0.0177 - accuracy: 1.0000 - val_loss: 0.3631 - val_accuracy: 0.8889\n",
            "Epoch 42/60\n",
            "40/40 [==============================] - 0s 3ms/step - loss: 0.0172 - accuracy: 1.0000 - val_loss: 0.3713 - val_accuracy: 0.8889\n",
            "Epoch 43/60\n",
            "40/40 [==============================] - 0s 2ms/step - loss: 0.0167 - accuracy: 1.0000 - val_loss: 0.3709 - val_accuracy: 0.8889\n",
            "Epoch 44/60\n",
            "40/40 [==============================] - 0s 2ms/step - loss: 0.0163 - accuracy: 1.0000 - val_loss: 0.3792 - val_accuracy: 0.8889\n",
            "Epoch 45/60\n",
            "40/40 [==============================] - 0s 3ms/step - loss: 0.0157 - accuracy: 1.0000 - val_loss: 0.3678 - val_accuracy: 0.8889\n",
            "Epoch 46/60\n",
            "40/40 [==============================] - 0s 3ms/step - loss: 0.0154 - accuracy: 1.0000 - val_loss: 0.3731 - val_accuracy: 0.8889\n",
            "Epoch 47/60\n",
            "40/40 [==============================] - 0s 3ms/step - loss: 0.0150 - accuracy: 1.0000 - val_loss: 0.3766 - val_accuracy: 0.8889\n",
            "Epoch 48/60\n",
            "40/40 [==============================] - 0s 3ms/step - loss: 0.0146 - accuracy: 1.0000 - val_loss: 0.3681 - val_accuracy: 0.8889\n",
            "Epoch 49/60\n",
            "40/40 [==============================] - 0s 2ms/step - loss: 0.0143 - accuracy: 1.0000 - val_loss: 0.3756 - val_accuracy: 0.8889\n",
            "Epoch 50/60\n",
            "40/40 [==============================] - 0s 2ms/step - loss: 0.0138 - accuracy: 1.0000 - val_loss: 0.3707 - val_accuracy: 0.8889\n",
            "Epoch 51/60\n",
            "40/40 [==============================] - 0s 3ms/step - loss: 0.0134 - accuracy: 1.0000 - val_loss: 0.3671 - val_accuracy: 0.8889\n",
            "Epoch 52/60\n",
            "40/40 [==============================] - 0s 2ms/step - loss: 0.0131 - accuracy: 1.0000 - val_loss: 0.3673 - val_accuracy: 0.8889\n",
            "Epoch 53/60\n",
            "40/40 [==============================] - 0s 3ms/step - loss: 0.0128 - accuracy: 1.0000 - val_loss: 0.3676 - val_accuracy: 0.8889\n",
            "Epoch 54/60\n",
            "40/40 [==============================] - 0s 3ms/step - loss: 0.0124 - accuracy: 1.0000 - val_loss: 0.3724 - val_accuracy: 0.8889\n",
            "Epoch 55/60\n",
            "40/40 [==============================] - 0s 2ms/step - loss: 0.0121 - accuracy: 1.0000 - val_loss: 0.3754 - val_accuracy: 0.8889\n",
            "Epoch 56/60\n",
            "40/40 [==============================] - 0s 2ms/step - loss: 0.0118 - accuracy: 1.0000 - val_loss: 0.3690 - val_accuracy: 0.8889\n",
            "Epoch 57/60\n",
            "40/40 [==============================] - 0s 3ms/step - loss: 0.0115 - accuracy: 1.0000 - val_loss: 0.3719 - val_accuracy: 0.8889\n",
            "Epoch 58/60\n",
            "40/40 [==============================] - 0s 2ms/step - loss: 0.0112 - accuracy: 1.0000 - val_loss: 0.3741 - val_accuracy: 0.8889\n",
            "Epoch 59/60\n",
            "40/40 [==============================] - 0s 2ms/step - loss: 0.0109 - accuracy: 1.0000 - val_loss: 0.3671 - val_accuracy: 0.8889\n",
            "Epoch 60/60\n",
            "40/40 [==============================] - 0s 3ms/step - loss: 0.0106 - accuracy: 1.0000 - val_loss: 0.3726 - val_accuracy: 0.8889\n",
            "3/3 [==============================] - 0s 6ms/step\n",
            "3/3 [==============================] - 0s 4ms/step - loss: 0.2739 - accuracy: 0.8864\n",
            "La precisión del modelo para el conjunto de prueba es del 88.64 %\n",
            "6/6 [==============================] - 0s 2ms/step - loss: 0.0474 - accuracy: 0.9886\n",
            "La precisión del modelo para el conjunto de entrenamieto es del 98.86 %\n",
            "\n",
            "Confusion matrix\n",
            "\n",
            "[[ 9  0  0  0  0  0  0  2  1]\n",
            " [ 0  0  0  0  0  0  1  0  1]\n",
            " [ 0  0  4  0  0  0  0  0  0]\n",
            " [ 0  0  0 10  0  0  0  0  0]\n",
            " [ 0  0  0  0 11  0  0  1  0]\n",
            " [ 0  0  0  0  0 10  0  0  0]\n",
            " [ 0  0  0  0  0  0 12  0  0]\n",
            " [ 0  0  0  0  1  0  0 19  0]\n",
            " [ 0  0  0  0  1  1  1  0  3]]\n",
            "\n",
            "Classification report\n",
            "\n",
            "              precision    recall  f1-score   support\n",
            "\n",
            "     class 0       1.00      0.75      0.86        12\n",
            "     class 1       0.00      0.00      0.00         2\n",
            "     class 2       1.00      1.00      1.00         4\n",
            "     class 3       1.00      1.00      1.00        10\n",
            "     class 4       0.85      0.92      0.88        12\n",
            "     class 5       0.91      1.00      0.95        10\n",
            "     class 6       0.86      1.00      0.92        12\n",
            "     class 7       0.86      0.95      0.90        20\n",
            "     class 8       0.60      0.50      0.55         6\n",
            "\n",
            "    accuracy                           0.89        88\n",
            "   macro avg       0.79      0.79      0.78        88\n",
            "weighted avg       0.87      0.89      0.87        88\n",
            "\n"
          ]
        },
        {
          "output_type": "stream",
          "name": "stderr",
          "text": [
            "/usr/local/lib/python3.8/dist-packages/sklearn/metrics/_classification.py:1318: UndefinedMetricWarning: Precision and F-score are ill-defined and being set to 0.0 in labels with no predicted samples. Use `zero_division` parameter to control this behavior.\n",
            "  _warn_prf(average, modifier, msg_start, len(result))\n",
            "/usr/local/lib/python3.8/dist-packages/sklearn/metrics/_classification.py:1318: UndefinedMetricWarning: Precision and F-score are ill-defined and being set to 0.0 in labels with no predicted samples. Use `zero_division` parameter to control this behavior.\n",
            "  _warn_prf(average, modifier, msg_start, len(result))\n",
            "/usr/local/lib/python3.8/dist-packages/sklearn/metrics/_classification.py:1318: UndefinedMetricWarning: Precision and F-score are ill-defined and being set to 0.0 in labels with no predicted samples. Use `zero_division` parameter to control this behavior.\n",
            "  _warn_prf(average, modifier, msg_start, len(result))\n"
          ]
        }
      ]
    },
    {
      "cell_type": "markdown",
      "source": [
        "# Curva ROC\n",
        "\n",
        "Trazo la curva ROC para cada clase y, de nuevo, los resultados son excelentes."
      ],
      "metadata": {
        "id": "4B9p1JivF1XB"
      }
    },
    {
      "cell_type": "code",
      "source": [
        "n_classes = 9\n",
        "# Plot linewidth.\n",
        "lw = 2\n",
        "\n",
        "# Compute ROC curve and ROC area for each class\n",
        "fpr = dict()\n",
        "tpr = dict()\n",
        "roc_auc = dict()\n",
        "for i in range(n_classes):\n",
        "    fpr[i], tpr[i], _ = fpr[i], tpr[i], _ = roc_curve(y_test[:, i], y_pred[:, i])\n",
        "    roc_auc[i] = auc(fpr[i], tpr[i])\n",
        "\n",
        "# Compute micro-average ROC curve and ROC area\n",
        "fpr[\"micro\"], tpr[\"micro\"], _ = roc_curve(y_test.ravel(), y_pred.ravel())\n",
        "roc_auc[\"micro\"] = auc(fpr[\"micro\"], tpr[\"micro\"])\n",
        "\n",
        "# Compute macro-average ROC curve and ROC area\n",
        "\n",
        "# First aggregate all false positive rates\n",
        "all_fpr = np.unique(np.concatenate([fpr[i] for i in range(n_classes)]))\n",
        "\n",
        "# Then interpolate all ROC curves at this points\n",
        "mean_tpr = np.zeros_like(all_fpr)\n",
        "for i in range(n_classes):\n",
        "    mean_tpr += interp(all_fpr, fpr[i], tpr[i])\n",
        "\n",
        "# Finally average it and compute AUC\n",
        "mean_tpr /= n_classes\n",
        "\n",
        "fpr[\"macro\"] = all_fpr\n",
        "tpr[\"macro\"] = mean_tpr\n",
        "roc_auc[\"macro\"] = auc(fpr[\"macro\"], tpr[\"macro\"])\n",
        "\n",
        "# Plot all ROC curves\n",
        "plt.figure(1)\n",
        "plt.plot(fpr[\"micro\"], tpr[\"micro\"],\n",
        "         label='micro-average ROC curve (area = {0:0.2f})'\n",
        "               ''.format(roc_auc[\"micro\"]),\n",
        "         color='deeppink', linestyle=':', linewidth=4)\n",
        "\n",
        "plt.plot(fpr[\"macro\"], tpr[\"macro\"],\n",
        "         label='macro-average ROC curve (area = {0:0.2f})'\n",
        "               ''.format(roc_auc[\"macro\"]),\n",
        "         color='navy', linestyle=':', linewidth=4)\n",
        "\n",
        "for i, in zip(range(n_classes)):\n",
        "    plt.plot(fpr[i], tpr[i], lw=lw,\n",
        "             label='ROC curve of class {0} (area = {1:0.2f})'\n",
        "                   ''.format(i, roc_auc[i]))\n",
        "\n",
        "plt.plot([0, 1], [0, 1], 'k--', lw=lw)\n",
        "plt.xlim([0.0, 1.0])\n",
        "plt.ylim([0.0, 1.05])\n",
        "plt.xlabel('False Positive Rate')\n",
        "plt.ylabel('True Positive Rate')\n",
        "plt.title('Some extension of Receiver operating characteristic to multi-class')\n",
        "plt.legend(loc=\"lower right\")\n",
        "plt.show()\n"
      ],
      "metadata": {
        "colab": {
          "base_uri": "https://localhost:8080/",
          "height": 351
        },
        "id": "cJlk9_YAzzLp",
        "outputId": "3f421129-50de-482e-835e-ce918e44bee7"
      },
      "execution_count": 17,
      "outputs": [
        {
          "output_type": "stream",
          "name": "stderr",
          "text": [
            "<ipython-input-17-a80ffdb4cac9>:25: DeprecationWarning: scipy.interp is deprecated and will be removed in SciPy 2.0.0, use numpy.interp instead\n",
            "  mean_tpr += interp(all_fpr, fpr[i], tpr[i])\n"
          ]
        },
        {
          "output_type": "display_data",
          "data": {
            "text/plain": [
              "<Figure size 432x288 with 1 Axes>"
            ],
            "image/png": "[encoded data removed]"
          },
          "metadata": {
            "needs_background": "light"
          }
        }
      ]
    },
    {
      "cell_type": "markdown",
      "source": [
        "# Influencia de los parámetros\n",
        "\n",
        "Elevado número de épocas ==> aumenta la precisión del modelo y reduce las pérdidas.\n",
        "\n",
        "Con o sin validación ==> no cambia nada.\n",
        "\n",
        "Batch size ==> es mejor utilizar un número pequeño cuando el conjunto de datos es pequeño.\n",
        "\n",
        "Función de activación ==> 'sigmoid' tiene los mejores resultados pero 'softmax' también tiene muy buenos resultados. Por el contrario, \"relu\" por ejemplo no funciona bien o no he conseguido que funcione.\n",
        "\n",
        "Learning rate ==> los mejores resultados se obtienen con la configuración por defecto de keras. Puedo obtener buenos resultados cambiando la taza de aprendizaje, pero nunca tan buenos.\n",
        "\n",
        "Número de capas ==> Sorprendentemente, la precisión no aumenta multiplicando el número de capas. Por el contrario, disminuye y el modelo parece necesitar más épocas para aprender.\n",
        "\n",
        "# Conclusión\n",
        "\n",
        "Una vez encontrada una buena arquitectura de red neuronal, los resultados obtenidos para clasificar a los jugadores de fútbol son muy satisfactorios a pesar de la escasa cantidad de datos para entrenar cada clase (mejores resultados que para la regresión logística). Después de probar varios parámetros, tengo la impresión de que es difícil hacerlo mucho mejor que los parámetros por defecto de keras. Los dos parámetros que me parecen más importantes son la elección de la función de activación y de pérdida, que cambia en función de los problemas a resolver (clasificación binaria, multiclase, tipos de datos...)."
      ],
      "metadata": {
        "id": "yCcnk01VzHP9"
      }
    }
  ]
}